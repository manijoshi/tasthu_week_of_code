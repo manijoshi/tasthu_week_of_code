{
 "cells": [
  {
   "cell_type": "markdown",
   "metadata": {},
   "source": [
    "# program 1"
   ]
  },
  {
   "cell_type": "code",
   "execution_count": 2,
   "metadata": {},
   "outputs": [
    {
     "name": "stdout",
     "output_type": "stream",
     "text": [
      "manisha\n",
      "ahsinam\n"
     ]
    }
   ],
   "source": [
    "s=input()\n",
    "print(s[::-1])"
   ]
  },
  {
   "cell_type": "markdown",
   "metadata": {},
   "source": [
    "# program 2"
   ]
  },
  {
   "cell_type": "code",
   "execution_count": 53,
   "metadata": {},
   "outputs": [
    {
     "name": "stdout",
     "output_type": "stream",
     "text": [
      "Enter a string: RAM\n",
      "All the permutation of given string is:- \n",
      "MAR, MRA, AMR, ARM, RMA, RAM\n"
     ]
    }
   ],
   "source": [
    "def permutation(List, String = \"\"):\n",
    "    Set = set(List)\n",
    "    stringList = []\n",
    "    if len(Set) == 1:\n",
    "        String += \"\".join(List)\n",
    "        return list([String])\n",
    "    for x in Set:\n",
    "        List1 = list(List)\n",
    "        S = String + x\n",
    "        List1.remove(x)\n",
    "        stringList.extend(permutation(List1, S))\n",
    "    return stringList\n",
    "\n",
    "string = input(\"Enter a string: \")\n",
    "List = permutation(list(string))\n",
    "print(\"All the permutation of given string is:- \" + \"\\n\"+\", \".join(List))"
   ]
  },
  {
   "cell_type": "code",
   "execution_count": 52,
   "metadata": {},
   "outputs": [
    {
     "name": "stdout",
     "output_type": "stream",
     "text": [
      "RAM\n",
      "{'M', 'A', 'R'}\n",
      "RAM\n"
     ]
    },
    {
     "data": {
      "text/plain": [
       "{'A', 'M', 'R'}"
      ]
     },
     "execution_count": 52,
     "metadata": {},
     "output_type": "execute_result"
    }
   ],
   "source": [
    "#string=list(input())\n",
    "#print(string)\n",
    "#Set=set(string)\n",
    "#print(Set)\n",
    "print(set(list(input())))\n",
    "set(list(input()))"
   ]
  },
  {
   "cell_type": "markdown",
   "metadata": {},
   "source": [
    "# program 3"
   ]
  },
  {
   "cell_type": "code",
   "execution_count": 37,
   "metadata": {},
   "outputs": [
    {
     "name": "stdout",
     "output_type": "stream",
     "text": [
      "rabindra\n",
      "string after removing duplicates :  rabind\n"
     ]
    }
   ],
   "source": [
    "s=input()\n",
    "s1=\"\"\n",
    "for i in s:\n",
    "    if i not in s1:\n",
    "        s1+=\"\".join(i)\n",
    "print(\"string after removing duplicates : \",s1)"
   ]
  },
  {
   "cell_type": "markdown",
   "metadata": {},
   "source": [
    "# program 4"
   ]
  },
  {
   "cell_type": "code",
   "execution_count": 33,
   "metadata": {},
   "outputs": [
    {
     "name": "stdout",
     "output_type": "stream",
     "text": [
      "2 3 4 1 2 3 4\n",
      "[2, 3, 4, 1]\n"
     ]
    }
   ],
   "source": [
    "l=list(map(int,input().split()))\n",
    "l2=[]\n",
    "for i in l:\n",
    "    if i not in l2:\n",
    "        l2.append(i)\n",
    "print(l2)"
   ]
  },
  {
   "cell_type": "markdown",
   "metadata": {},
   "source": [
    "# program 5"
   ]
  },
  {
   "cell_type": "code",
   "execution_count": 58,
   "metadata": {},
   "outputs": [
    {
     "name": "stdout",
     "output_type": "stream",
     "text": [
      "1 2 3 4\n",
      "4 3 2 7\n",
      "2 3 4 "
     ]
    }
   ],
   "source": [
    "l1=list(map(int,input().split()))\n",
    "l2=list(map(int,input().split()))\n",
    "for i in set(l1):\n",
    "    for j in set(l2):\n",
    "        if i==j:\n",
    "            print(i,end=\" \")"
   ]
  },
  {
   "cell_type": "markdown",
   "metadata": {},
   "source": [
    "# program 6"
   ]
  },
  {
   "cell_type": "code",
   "execution_count": 5,
   "metadata": {},
   "outputs": [
    {
     "name": "stdout",
     "output_type": "stream",
     "text": [
      "Enter the no of elements you want to add in the list: 4\n",
      "Enter the elements in list one by one.\n",
      "1\n",
      "2\n",
      "5\n",
      "7\n",
      "The least integer which is not present in the list and also cannot be represented as the summation of sub-elements is 4\n"
     ]
    }
   ],
   "source": [
    "def Sum(List, size,sum):\n",
    "    sumList = []\n",
    "    if size == 1:\n",
    "        for x in List:\n",
    "            sumList.append(sum + x)\n",
    "        return sumList\n",
    "    L2 = list(List)\n",
    "    for x in List:\n",
    "        L2.remove(x)\n",
    "        sumList.extend(Sum(L2,size-1,sum + x))\n",
    "    return sumList\n",
    "\n",
    "def summation(List,size):\n",
    "    sumList = list(List)\n",
    "    for i in range (2, size + 1):\n",
    "        sumList.extend(Sum(List,i,0))\n",
    "    number = 1\n",
    "    while True:\n",
    "        if number not in sumList:\n",
    "            print(\"The least integer which is not present in the list and also cannot be represented as the summation of sub-elements is\",number)\n",
    "            break\n",
    "        number += 1\n",
    "\n",
    "size = int(input(\"Enter the no of elements you want to add in the list: \"))\n",
    "List = []\n",
    "print(\"Enter the elements in list one by one.\")\n",
    "for i in range(size):\n",
    "    List.append(int(input()))\n",
    "summation(List, size)"
   ]
  },
  {
   "cell_type": "code",
   "execution_count": null,
   "metadata": {},
   "outputs": [],
   "source": []
  }
 ],
 "metadata": {
  "kernelspec": {
   "display_name": "Python 3",
   "language": "python",
   "name": "python3"
  },
  "language_info": {
   "codemirror_mode": {
    "name": "ipython",
    "version": 3
   },
   "file_extension": ".py",
   "mimetype": "text/x-python",
   "name": "python",
   "nbconvert_exporter": "python",
   "pygments_lexer": "ipython3",
   "version": "3.7.4"
  }
 },
 "nbformat": 4,
 "nbformat_minor": 4
}
