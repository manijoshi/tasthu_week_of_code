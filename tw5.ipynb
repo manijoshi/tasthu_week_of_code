{
 "cells": [
  {
   "cell_type": "markdown",
   "metadata": {},
   "source": [
    "# 1."
   ]
  },
  {
   "cell_type": "code",
   "execution_count": null,
   "metadata": {},
   "outputs": [],
   "source": [
    "def fun(number):\n",
    "    return int(str(number).replace(\"0\",\"5\"))\n",
    "number = int(input(\"No. you want to check: \"))\n",
    "print(\"The number after replacing all 0 with 5 will be\", fun(number))"
   ]
  },
  {
   "cell_type": "markdown",
   "metadata": {},
   "source": [
    "# 2."
   ]
  },
  {
   "cell_type": "code",
   "execution_count": 7,
   "metadata": {},
   "outputs": [
    {
     "name": "stdout",
     "output_type": "stream",
     "text": [
      "Enter the size of the list: 5\n",
      "enter space seperated elements in the list:- \n",
      "2 4 53 1 5\n",
      "The list after replacing every element with greatest element on right side is:  [53, 53, 5, 5, 5]\n"
     ]
    }
   ],
   "source": [
    "def replaceGreatestInteger(List):\n",
    "    for i in range(n-1):\n",
    "        List[i] = max(List[i+1:])\n",
    "    return List\n",
    "n = int(input(\"Enter the size of the list: \"))\n",
    "print(\"enter space seperated elements in the list:- \")\n",
    "List=list(map(int,input().split()))\n",
    "print(\"The list after replacing every element with greatest element on right side is: \", replaceGreatestInteger(List))"
   ]
  },
  {
   "cell_type": "markdown",
   "metadata": {},
   "source": [
    "# 3."
   ]
  },
  {
   "cell_type": "code",
   "execution_count": 12,
   "metadata": {},
   "outputs": [
    {
     "name": "stdout",
     "output_type": "stream",
     "text": [
      "Enter the number of Houses in a line: 5\n",
      "Enter the value in the House number 1: 4\n",
      "Enter the value in the House number 2: 2\n",
      "Enter the value in the House number 3: 1\n",
      "Enter the value in the House number 4: 9\n",
      "Enter the value in the House number 5: 2\n",
      "The maximum stolen value from Houses is 13\n"
     ]
    }
   ],
   "source": [
    "def House(List):\n",
    "    if len(List) == 2:\n",
    "        return max(List)\n",
    "    if len(List) == 1:\n",
    "        return List[0]\n",
    "    if len(List) == 3:\n",
    "        return max(List[1], List[0] + House(List[2:]))\n",
    "    return max(List[1] + House(List[3:]), List[0] + House(List[2:]))\n",
    "size = int(input(\"Enter the number of Houses in a line: \"))\n",
    "List = []\n",
    "for i in range(size):\n",
    "    List.append(int(input(\"Enter the value in the House number \" + str(i + 1) + \": \")))\n",
    "print(\"The maximum stolen value from Houses is\", House(List))"
   ]
  },
  {
   "cell_type": "markdown",
   "metadata": {},
   "source": [
    "# 4."
   ]
  },
  {
   "cell_type": "code",
   "execution_count": 11,
   "metadata": {},
   "outputs": [
    {
     "name": "stdout",
     "output_type": "stream",
     "text": [
      "Enter the number of items you want to enter: 3\n",
      "Enter the weight for item number 1: 2\n",
      "Enter the value for item number 1: 1\n",
      "Enter the weight for item number 2: 1.5\n",
      "Enter the value for item number 2: 2\n",
      "Enter the weight for item number 3: 4\n",
      "Enter the value for item number 3: 1\n",
      "Enter the value of weight capacity: 50\n",
      "The maximum value for the given weight value pair is  4.0\n"
     ]
    }
   ],
   "source": [
    "def knapsack(weight, List):\n",
    "    if weight == 0 or len(List) == 0:\n",
    "        return 0\n",
    "    if len(List) == 1:\n",
    "        if List[0][0] > weight:\n",
    "            return 0 \n",
    "        return List[0][1]  \n",
    "    if List[0][0] > weight:\n",
    "        return knapsack((weight, List[1:]))\n",
    "    return max(List[0][1] + knapsack(weight - List[0][0], List[1:]), knapsack(weight, List[1:]))\n",
    "size =  int(input(\"Enter the number of items you want to enter: \"))\n",
    "List = []\n",
    "for i in range(size):\n",
    "    weight = float(input(\"Enter the weight for item number \" + str(i + 1) + \": \"))\n",
    "    value = float(input(\"Enter the value for item number \" + str(i + 1) + \": \"))\n",
    "    List.append((weight,value))\n",
    "weight = int(input(\"Enter the value of weight capacity: \"))\n",
    "print(\"The maximum value for the given weight value pair is \", knapsack(weight, List))"
   ]
  },
  {
   "cell_type": "markdown",
   "metadata": {},
   "source": [
    "# 5."
   ]
  },
  {
   "cell_type": "code",
   "execution_count": 8,
   "metadata": {},
   "outputs": [
    {
     "name": "stdout",
     "output_type": "stream",
     "text": [
      "Enter the number of elements you want to add in the array: 6\n",
      "Enter the element number 1 in the list: 2\n",
      "Enter the element number 2 in the list: 4\n",
      "Enter the element number 3 in the list: 1\n",
      "Enter the element number 4 in the list: 5\n",
      "Enter the element number 5 in the list: 6\n",
      "Enter the element number 6 in the list: 55\n",
      "The list of numbers after sorting them according to given condition is 55, 5, 1, 2, 4, 6\n"
     ]
    }
   ],
   "source": [
    "def sortEvenOdd(List):\n",
    "    odd = []\n",
    "    even = []\n",
    "    for x in List:\n",
    "        if x % 2 == 0:\n",
    "            even.append(x)\n",
    "        else :\n",
    "            odd.append(x)\n",
    "    return sorted(odd, reverse = True) + sorted(even)\n",
    "size = int(input(\"Enter the number of elements you want to add in the array: \"))\n",
    "List = []\n",
    "for i in range(size):\n",
    "    List.append(int(input(\"Enter the element number \" + str(i + 1) + \" in the list: \")))\n",
    "print(\"The list of numbers after sorting them according to given condition is\", str(sortEvenOdd(List))[1:-1])"
   ]
  },
  {
   "cell_type": "code",
   "execution_count": null,
   "metadata": {},
   "outputs": [],
   "source": []
  }
 ],
 "metadata": {
  "kernelspec": {
   "display_name": "Python 3",
   "language": "python",
   "name": "python3"
  },
  "language_info": {
   "codemirror_mode": {
    "name": "ipython",
    "version": 3
   },
   "file_extension": ".py",
   "mimetype": "text/x-python",
   "name": "python",
   "nbconvert_exporter": "python",
   "pygments_lexer": "ipython3",
   "version": "3.7.4"
  }
 },
 "nbformat": 4,
 "nbformat_minor": 4
}
