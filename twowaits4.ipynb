{
 "cells": [
  {
   "cell_type": "markdown",
   "metadata": {},
   "source": [
    "# 1."
   ]
  },
  {
   "cell_type": "code",
   "execution_count": 7,
   "metadata": {},
   "outputs": [
    {
     "name": "stdout",
     "output_type": "stream",
     "text": [
      "1 2 3 4 5\n",
      "2\n",
      "1\n"
     ]
    }
   ],
   "source": [
    "t=tuple(map(int,input().split()))\n",
    "ele=int(input())\n",
    "c=0\n",
    "for i in t:\n",
    "    if i == ele:\n",
    "        c+=1\n",
    "print(c)"
   ]
  },
  {
   "cell_type": "markdown",
   "metadata": {},
   "source": [
    "# 2."
   ]
  },
  {
   "cell_type": "code",
   "execution_count": 20,
   "metadata": {},
   "outputs": [
    {
     "name": "stdout",
     "output_type": "stream",
     "text": [
      "Size of list in which you wanna add tuple: 4\n",
      "Size of tuple: 4\n",
      "enter the elements in each tuple:-\n",
      "Tuple  1\n",
      "1\n",
      "0\n",
      "2\n",
      "5\n",
      "Tuple  2\n",
      "2\n",
      "1\n",
      "4\n",
      "6\n",
      "Tuple  3\n",
      "3\n",
      "4\n",
      "8\n",
      "0\n",
      "Tuple  4\n",
      "2\n",
      "2\n",
      "3\n",
      "1\n",
      "index about which you want to sort list: 2\n",
      "After sorting the tuple list  [(1, 0, 2, 5), (2, 2, 3, 1), (2, 1, 4, 6), (3, 4, 8, 0)]\n"
     ]
    }
   ],
   "source": [
    "n=int(input(\"Size of list in which you wanna add tuple: \"))\n",
    "n1=int(input(\"Size of tuple: \"))\n",
    "print(\"enter the elements in each tuple:-\")\n",
    "l=[]\n",
    "for i in range(n):\n",
    "    print(\"Tuple \",i+1)\n",
    "    t=[]\n",
    "    for j in range(n1):\n",
    "        t.append(int(input()))\n",
    "    l.append(tuple(t))\n",
    "I=int(input(\"index about which you want to sort list: \"))\n",
    "l.sort(key=lambda a:a[I])\n",
    "print(\"After sorting the tuple list \",l)"
   ]
  },
  {
   "cell_type": "markdown",
   "metadata": {},
   "source": [
    "# 3."
   ]
  },
  {
   "cell_type": "code",
   "execution_count": 37,
   "metadata": {},
   "outputs": [
    {
     "name": "stdout",
     "output_type": "stream",
     "text": [
      "no. of elements you want to add in dictionary: 4\n",
      "a b c d\n",
      "1 2 9 9\n",
      "2\n"
     ]
    }
   ],
   "source": [
    "d={}\n",
    "n=int(input(\"no. of elements you want to add in dictionary: \"))\n",
    "keys=input().split()\n",
    "values=input().split()\n",
    "for i in range(len(keys)):\n",
    "    d[keys[i]]=int(values[i])\n",
    "print(sorted(set(d.values()))[-2])"
   ]
  },
  {
   "cell_type": "markdown",
   "metadata": {},
   "source": [
    "# 4."
   ]
  },
  {
   "cell_type": "code",
   "execution_count": 43,
   "metadata": {},
   "outputs": [
    {
     "name": "stdout",
     "output_type": "stream",
     "text": [
      "no. of elements you want to add in dictionary: 6\n",
      "a b c d e f\n",
      "1 2 1 1 3 4\n",
      "dictionary values after removing duplicate values:  {1, 2, 3, 4}\n"
     ]
    }
   ],
   "source": [
    "d={}\n",
    "n=int(input(\"no. of elements you want to add in dictionary: \"))\n",
    "keys=input().split()\n",
    "values=input().split()\n",
    "for i in range(len(keys)):\n",
    "    d[keys[i]]=int(values[i])\n",
    "print(\"dictionary values after removing duplicate values: \",set(d.values()))"
   ]
  },
  {
   "cell_type": "markdown",
   "metadata": {},
   "source": [
    "# 5."
   ]
  },
  {
   "cell_type": "code",
   "execution_count": 45,
   "metadata": {},
   "outputs": [
    {
     "name": "stdout",
     "output_type": "stream",
     "text": [
      "enter no. of votes: 5\n",
      "enter the names of candidates:-\n",
      "\n",
      "Enter the name of the Candidate to cast the Vote: A\n",
      "Enter the name of the Candidate to cast the Vote: B\n",
      "Enter the name of the Candidate to cast the Vote: C\n",
      "Enter the name of the Candidate to cast the Vote: A\n",
      "Enter the name of the Candidate to cast the Vote: A\n",
      "The name of the candidate who won the election is A\n"
     ]
    }
   ],
   "source": [
    "noOfVotes=int(input(\"enter no. of votes: \"))\n",
    "votes=[]\n",
    "print(\"enter the names of candidates:-\"+\"\\n\")\n",
    "for i in range(noOfVotes):\n",
    "    votes.append(input(\"Enter the name of the Candidate to cast the Vote: \"))\n",
    "vote=[]\n",
    "for name in votes:\n",
    "    vote.append((name, votes.count(name)))\n",
    "vote.sort(key = lambda x : x[0], reverse = True )\n",
    "vote.sort(key = lambda x : x[1])\n",
    "\n",
    "print(\"The name of the candidate who won the election is\", vote[-1][0])"
   ]
  },
  {
   "cell_type": "markdown",
   "metadata": {},
   "source": [
    "# 6."
   ]
  },
  {
   "cell_type": "code",
   "execution_count": 3,
   "metadata": {},
   "outputs": [
    {
     "name": "stdout",
     "output_type": "stream",
     "text": [
      "No. of words you want to add in dictionary: 7\n",
      "enter the words in dictionary one by one:-\n",
      "\n",
      "go\n",
      "boy\n",
      "goal\n",
      "eat\n",
      "bat\n",
      "me\n",
      "run\n",
      "Enter the no of character you want to add in array:-\n",
      "7\n",
      "Enter the characters in array one by one:-\n",
      "\n",
      "e\n",
      "o\n",
      "b\n",
      "a\n",
      "m\n",
      "g\n",
      "l\n",
      "go, goal, me.\n"
     ]
    }
   ],
   "source": [
    "n = int(input(\"No. of words you want to add in dictionary: \"))\n",
    "d = []\n",
    "print(\"enter the words in dictionary one by one:-\"+\"\\n\")\n",
    "for i in range(n):\n",
    "    d.append(input())\n",
    "n = int(input(\"Enter the no of character you want to add in array:-\"+\"\\n\"))\n",
    "a = []\n",
    "result = []\n",
    "print(\"Enter the characters in array one by one:-\"+'\\n')\n",
    "for i in range(n):\n",
    "    a.append(input())\n",
    "for word in d: \n",
    "    if set(word).issubset(set(a)):\n",
    "        result.append(word)\n",
    "print(\", \".join(result) + \".\")"
   ]
  },
  {
   "cell_type": "code",
   "execution_count": null,
   "metadata": {},
   "outputs": [],
   "source": []
  }
 ],
 "metadata": {
  "kernelspec": {
   "display_name": "Python 3",
   "language": "python",
   "name": "python3"
  },
  "language_info": {
   "codemirror_mode": {
    "name": "ipython",
    "version": 3
   },
   "file_extension": ".py",
   "mimetype": "text/x-python",
   "name": "python",
   "nbconvert_exporter": "python",
   "pygments_lexer": "ipython3",
   "version": "3.7.4"
  }
 },
 "nbformat": 4,
 "nbformat_minor": 4
}
