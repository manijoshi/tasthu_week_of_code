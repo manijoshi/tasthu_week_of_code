{
 "cells": [
  {
   "cell_type": "markdown",
   "metadata": {},
   "source": [
    "# 1."
   ]
  },
  {
   "cell_type": "code",
   "execution_count": 2,
   "metadata": {},
   "outputs": [
    {
     "name": "stdout",
     "output_type": "stream",
     "text": [
      "ABABABAC\n",
      "The minimum number of deletions required are 1\n"
     ]
    }
   ],
   "source": [
    "X=input()\n",
    "n=len(X)\n",
    "i=0\n",
    "j=n-1\n",
    "def minDeletions(X, i, j):\n",
    "    if i >= j:\n",
    "        return 0\n",
    "    if X[i] == X[j]:\n",
    "        return minDeletions(X, i + 1, j - 1)\n",
    "\n",
    "    return 1 + min(minDeletions(X, i, j - 1), minDeletions(X, i + 1, j))\n",
    "\n",
    "\n",
    "print(\"The minimum number of deletions required are\", minDeletions(X, 0, n - 1))\n"
   ]
  },
  {
   "cell_type": "markdown",
   "metadata": {},
   "source": [
    "# 2."
   ]
  },
  {
   "cell_type": "code",
   "execution_count": 2,
   "metadata": {},
   "outputs": [
    {
     "name": "stdout",
     "output_type": "stream",
     "text": [
      "1 0 0 1 1 1 0 0 0\n"
     ]
    },
    {
     "data": {
      "text/plain": [
       "[0, 0, 0, 0, 0, 1, 1, 1, 1]"
      ]
     },
     "execution_count": 2,
     "metadata": {},
     "output_type": "execute_result"
    }
   ],
   "source": [
    "l=list(map(int,input().split()))\n",
    "l.sort()\n",
    "l"
   ]
  },
  {
   "cell_type": "markdown",
   "metadata": {},
   "source": [
    "# 3."
   ]
  },
  {
   "cell_type": "code",
   "execution_count": 13,
   "metadata": {},
   "outputs": [
    {
     "name": "stdout",
     "output_type": "stream",
     "text": [
      "23 5 2 4 22 6\n",
      "Missing elements of array:  [1, 3, 7, 8, 9, 10, 11, 12, 13, 14, 15, 16, 17, 18, 19, 20, 21]\n",
      "smallest element:  1\n"
     ]
    }
   ],
   "source": [
    "l=list(map(int,input().split()))\n",
    "arr=[]\n",
    "for i in range(1,max(l)):\n",
    "    if i not in l:\n",
    "        arr.append(i)\n",
    "    else:\n",
    "        pass\n",
    "print(\"Missing elements of array: \",arr)\n",
    "print(\"smallest element: \",arr[0])"
   ]
  },
  {
   "cell_type": "markdown",
   "metadata": {},
   "source": [
    "# 4."
   ]
  },
  {
   "cell_type": "code",
   "execution_count": 42,
   "metadata": {},
   "outputs": [
    {
     "name": "stdout",
     "output_type": "stream",
     "text": [
      "218765\n",
      "251678\n"
     ]
    }
   ],
   "source": [
    "s=input()\n",
    "l=[int(i) for i in s]\n",
    "for i in range(len(l)-1,0,-1):\n",
    "    if l[i]>l[i-1]:\n",
    "        l[i-1],l[-1]=l[-1],l[i-1]\n",
    "        break        \n",
    "l=l[:i]+sorted(l[i:])\n",
    "print(''.join((map(str,l))))"
   ]
  },
  {
   "cell_type": "markdown",
   "metadata": {},
   "source": [
    "# 5."
   ]
  },
  {
   "cell_type": "code",
   "execution_count": 69,
   "metadata": {},
   "outputs": [
    {
     "name": "stdout",
     "output_type": "stream",
     "text": [
      "4 6\n",
      "Sum isn't a Fibonacci number\n"
     ]
    }
   ],
   "source": [
    "import math\n",
    "l=list(map(int,input().split()))\n",
    "def isperfectSquare(l):\n",
    "    s=int(math.sqrt(l))\n",
    "    return s*s==l\n",
    "arr=[]\n",
    "for i in l:\n",
    "    if isperfectSquare(i):\n",
    "        arr.append(i)\n",
    "    \n",
    "if isperfectSquare(5*sum(arr)*sum(arr) + 4) or isperfectSquare(5*sum(arr)*sum(arr) - 4) :\n",
    "    print(\"Sum is also a Fibonacci number\")\n",
    "else:\n",
    "    print(\"Sum isn't a Fibonacci number\")"
   ]
  },
  {
   "cell_type": "markdown",
   "metadata": {},
   "source": [
    "# 6."
   ]
  },
  {
   "cell_type": "code",
   "execution_count": 112,
   "metadata": {},
   "outputs": [
    {
     "name": "stdout",
     "output_type": "stream",
     "text": [
      "3 4 5 1 2\n",
      "-2\n",
      "array is sorted and rotated\n"
     ]
    }
   ],
   "source": [
    "l=list(map(int,input().split()))\n",
    "a=l.copy()\n",
    "pos=int(input())\n",
    "a.sort()\n",
    "if (l[pos:]+l[:pos])==a:\n",
    "    print(\"array is sorted and rotated\")\n",
    "else:\n",
    "    print(\"not rotated sorted array\")"
   ]
  },
  {
   "cell_type": "markdown",
   "metadata": {},
   "source": [
    "# 7."
   ]
  },
  {
   "cell_type": "code",
   "execution_count": 1,
   "metadata": {},
   "outputs": [
    {
     "name": "stdout",
     "output_type": "stream",
     "text": [
      "2\n",
      "3\n",
      "A( 2,  3)\n",
      "A( 1, A( 2,  2))\n",
      "A( 1, A( 1, A( 2,  1)))\n",
      "A( 1, A( 1, A( 1, A( 2,  0))))\n",
      "A( 1, A( 1, A( 1, A( 1,  1))))\n",
      "A( 1, A( 1, A( 1, A( 0, A( 1,  0)))))\n",
      "A( 1, A( 1, A( 1, A( 0, A( 0,  1)))))\n",
      "A( 1, A( 1, A( 1, A( 0,  2))))\n",
      "A( 1, A( 1, A( 1,  3)))\n",
      "A( 1, A( 1, A( 0, A( 1,  2))))\n",
      "A( 1, A( 1, A( 0, A( 0, A( 1,  1)))))\n",
      "A( 1, A( 1, A( 0, A( 0, A( 0, A( 1,  0))))))\n",
      "A( 1, A( 1, A( 0, A( 0, A( 0, A( 0,  1))))))\n",
      "A( 1, A( 1, A( 0, A( 0, A( 0,  2)))))\n",
      "A( 1, A( 1, A( 0, A( 0,  3))))\n",
      "A( 1, A( 1, A( 0,  4)))\n",
      "A( 1, A( 1,  5))\n",
      "A( 1, A( 0, A( 1,  4)))\n",
      "A( 1, A( 0, A( 0, A( 1,  3))))\n",
      "A( 1, A( 0, A( 0, A( 0, A( 1,  2)))))\n",
      "A( 1, A( 0, A( 0, A( 0, A( 0, A( 1,  1))))))\n",
      "A( 1, A( 0, A( 0, A( 0, A( 0, A( 0, A( 1,  0)))))))\n",
      "A( 1, A( 0, A( 0, A( 0, A( 0, A( 0, A( 0,  1)))))))\n",
      "A( 1, A( 0, A( 0, A( 0, A( 0, A( 0,  2))))))\n",
      "A( 1, A( 0, A( 0, A( 0, A( 0,  3)))))\n",
      "A( 1, A( 0, A( 0, A( 0,  4))))\n",
      "A( 1, A( 0, A( 0,  5)))\n",
      "A( 1, A( 0,  6))\n",
      "A( 1,  7)\n",
      "A( 0, A( 1,  6))\n",
      "A( 0, A( 0, A( 1,  5)))\n",
      "A( 0, A( 0, A( 0, A( 1,  4))))\n",
      "A( 0, A( 0, A( 0, A( 0, A( 1,  3)))))\n",
      "A( 0, A( 0, A( 0, A( 0, A( 0, A( 1,  2))))))\n",
      "A( 0, A( 0, A( 0, A( 0, A( 0, A( 0, A( 1,  1)))))))\n",
      "A( 0, A( 0, A( 0, A( 0, A( 0, A( 0, A( 0, A( 1,  0))))))))\n",
      "A( 0, A( 0, A( 0, A( 0, A( 0, A( 0, A( 0, A( 0,  1))))))))\n",
      "A( 0, A( 0, A( 0, A( 0, A( 0, A( 0, A( 0,  2)))))))\n",
      "A( 0, A( 0, A( 0, A( 0, A( 0, A( 0,  3))))))\n",
      "A( 0, A( 0, A( 0, A( 0, A( 0,  4)))))\n",
      "A( 0, A( 0, A( 0, A( 0,  5))))\n",
      "A( 0, A( 0, A( 0,  6)))\n",
      "A( 0, A( 0,  7))\n",
      "A( 0,  8)\n",
      "9\n"
     ]
    }
   ],
   "source": [
    "#Ackermann Function\n",
    "def A(m, n, s =\"% s\"): \n",
    "    print(s % (\"A(% d, % d)\" % (m, n))) \n",
    "    if m == 0: \n",
    "        return n + 1\n",
    "    if n == 0: \n",
    "        return A(m - 1, 1, s) \n",
    "    n2 = A(m, n - 1, s % (\"A(% d, %% s)\" % (m - 1))) \n",
    "    return A(m - 1, n2, s) \n",
    "  \n",
    "print(A(int(input()), int(input()))) \n",
    "  "
   ]
  },
  {
   "cell_type": "markdown",
   "metadata": {},
   "source": [
    "# 8."
   ]
  },
  {
   "cell_type": "code",
   "execution_count": 195,
   "metadata": {},
   "outputs": [
    {
     "name": "stdout",
     "output_type": "stream",
     "text": [
      "4\n",
      "6\n",
      "1 2 3 4 5 6\n",
      "1 1 1 2 2 2 \n",
      "3 3 4 5 6 7\n",
      "2 3 35 6 7 7\n",
      "transpose of array:-\n",
      " [[ 1  1  3  2]\n",
      " [ 2  1  3  3]\n",
      " [ 3  1  4 35]\n",
      " [ 4  2  5  6]\n",
      " [ 5  2  6  7]\n",
      " [ 6  2  7  7]]\n",
      "1 1 3 2 3 35 6 7 7 7 2 6 5 4 3 2 1 3 4 5 6 2 2 1 "
     ]
    }
   ],
   "source": [
    "import numpy as np\n",
    "def spiral(n,m,arr):\n",
    "    k=l=0\n",
    "    while(k<m and l<n):\n",
    "        for i in range(l,n):\n",
    "            print(arr[k][i],end=\" \")\n",
    "        k+=1 # k is now 1\n",
    "        for i in range(k,m):\n",
    "            print(arr[i][n-1],end=\" \")\n",
    "        n-=1\n",
    "        if k<m:\n",
    "            for i in range(n-1,l-1,-1):\n",
    "                print(arr[m-1][i],end=\" \")\n",
    "            m-=1\n",
    "        if l<n:\n",
    "            for i in range(m-1,k-1,-1):\n",
    "                print(arr[i][l],end=\" \")\n",
    "            l+=1\n",
    "m=int(input())       \n",
    "n=int(input())\n",
    "arr=[]\n",
    "for i in range(m):\n",
    "    arr.append(list(map(int,input().split())))\n",
    "\n",
    "l=np.array(arr)\n",
    "l1=np.array(l.transpose())\n",
    "print(\"transpose of array:-\\n\",l1)\n",
    "spiral(m,n,l1)"
   ]
  },
  {
   "cell_type": "markdown",
   "metadata": {},
   "source": [
    "# 9."
   ]
  },
  {
   "cell_type": "code",
   "execution_count": 114,
   "metadata": {},
   "outputs": [
    {
     "name": "stdout",
     "output_type": "stream",
     "text": [
      "1 7 2 3 8 6 0 4\n",
      "2\n",
      "1\n"
     ]
    }
   ],
   "source": [
    "l=list(map(int,input().split()))\n",
    "k=int(input())\n",
    "if k<len(l):\n",
    "    print(sorted(l)[k-1])"
   ]
  },
  {
   "cell_type": "markdown",
   "metadata": {},
   "source": [
    "# 10."
   ]
  },
  {
   "cell_type": "code",
   "execution_count": 118,
   "metadata": {},
   "outputs": [
    {
     "name": "stdout",
     "output_type": "stream",
     "text": [
      "2\n",
      "enter the values for list 1: 2 3 4 1 0\n",
      "enter the values for list 2: 6 7 3 0 1 2\n",
      "[0, 0, 1, 1, 2, 2, 3, 3, 4, 6, 7]\n"
     ]
    }
   ],
   "source": [
    "k=int(input())\n",
    "l=[]\n",
    "for i in range(k):\n",
    "    l1=list(map(int,input(f'enter the values for list {i+1}: ').split()))\n",
    "    l1.sort()\n",
    "    l=l+l1\n",
    "l.sort()\n",
    "print(l)"
   ]
  },
  {
   "cell_type": "markdown",
   "metadata": {},
   "source": [
    "# 11."
   ]
  },
  {
   "cell_type": "code",
   "execution_count": 120,
   "metadata": {},
   "outputs": [
    {
     "name": "stdout",
     "output_type": "stream",
     "text": [
      "7\n",
      "0 7 1 2 3 46 3\n",
      "966\n"
     ]
    }
   ],
   "source": [
    "N=int(input())\n",
    "A=list(map(int,input().split()))\n",
    "A.sort()\n",
    "if len(A)>=3:\n",
    "    print(A[-1]*A[-2]*A[-3])"
   ]
  },
  {
   "cell_type": "markdown",
   "metadata": {},
   "source": [
    "# 12."
   ]
  },
  {
   "cell_type": "code",
   "execution_count": 131,
   "metadata": {},
   "outputs": [
    {
     "name": "stdout",
     "output_type": "stream",
     "text": [
      "abcdefg abcefg\n",
      "abc\n"
     ]
    }
   ],
   "source": [
    "A=list(map(str,input().split()))\n",
    "s=\"\"\n",
    "for i in range(min(len(A[0]),len(A[1]))):\n",
    "    if A[0][i]==A[1][i]:\n",
    "        s+=A[0][i]\n",
    "print(s)"
   ]
  },
  {
   "cell_type": "markdown",
   "metadata": {},
   "source": [
    "# 13."
   ]
  },
  {
   "cell_type": "code",
   "execution_count": 132,
   "metadata": {},
   "outputs": [
    {
     "name": "stdout",
     "output_type": "stream",
     "text": [
      "0.2 1.2 8 7 6 1.9 0.22\n",
      "0.2 1.2 0.22\n"
     ]
    }
   ],
   "source": [
    "from itertools import combinations\n",
    "arr=list(map(str,input().split()))\n",
    "a1=map(float,arr)\n",
    "a2=combinations(a1,3)\n",
    "for a,b,c in a2:\n",
    "    if a+b+c<2 and a+b+c>1:\n",
    "        print(a,b,c)"
   ]
  },
  {
   "cell_type": "markdown",
   "metadata": {},
   "source": [
    "# 14."
   ]
  },
  {
   "cell_type": "code",
   "execution_count": 159,
   "metadata": {},
   "outputs": [
    {
     "name": "stdout",
     "output_type": "stream",
     "text": [
      "2\n",
      "2 3\n",
      "4 5\n",
      "After rotating 90 degree clockwise:-\n",
      "\n",
      "[4, 2]\n",
      "[5, 3]\n"
     ]
    }
   ],
   "source": [
    "n=int(input())\n",
    "arr=[]\n",
    "for i in range(n):\n",
    "    arr.append(list(map(int,input().split())))\n",
    "result=[[0 for i in range(n)]for j in range(n)]\n",
    "for i in range(n):\n",
    "    k=0\n",
    "    for j in range(n-1,-1,-1):\n",
    "        result[i][k]=arr[j][i]\n",
    "        k+=1\n",
    "print(\"After rotating 90 degree clockwise:-\\n\")\n",
    "for r in result:\n",
    "    print(r)"
   ]
  },
  {
   "cell_type": "markdown",
   "metadata": {},
   "source": [
    "# 15."
   ]
  },
  {
   "cell_type": "code",
   "execution_count": 174,
   "metadata": {},
   "outputs": [
    {
     "name": "stdout",
     "output_type": "stream",
     "text": [
      "9\n",
      "5 1 4 3 6 8 10 7 9\n",
      "element 6 found at index 4 follows the condition\n"
     ]
    }
   ],
   "source": [
    "N=int(input())\n",
    "arr=list(map(int,input().split()))\n",
    "r=0\n",
    "for i in range(1,N-2):\n",
    "    m1,m2=max(arr[:i]),min(arr[i+1:])\n",
    "    if arr[i]>m1 and arr[i]<m2:\n",
    "        print(f'element {arr[i]} found at index {i} follows the condition')\n",
    "        r=1\n",
    "if r==0:\n",
    "    print(\"there is no such element in array\")"
   ]
  },
  {
   "cell_type": "code",
   "execution_count": null,
   "metadata": {},
   "outputs": [],
   "source": []
  },
  {
   "cell_type": "code",
   "execution_count": null,
   "metadata": {},
   "outputs": [],
   "source": []
  }
 ],
 "metadata": {
  "kernelspec": {
   "display_name": "Python 3",
   "language": "python",
   "name": "python3"
  },
  "language_info": {
   "codemirror_mode": {
    "name": "ipython",
    "version": 3
   },
   "file_extension": ".py",
   "mimetype": "text/x-python",
   "name": "python",
   "nbconvert_exporter": "python",
   "pygments_lexer": "ipython3",
   "version": "3.7.6"
  }
 },
 "nbformat": 4,
 "nbformat_minor": 4
}
